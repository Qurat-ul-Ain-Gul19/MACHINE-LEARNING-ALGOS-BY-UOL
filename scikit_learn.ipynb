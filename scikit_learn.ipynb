{
  "nbformat": 4,
  "nbformat_minor": 0,
  "metadata": {
    "colab": {
      "name": "scikit-learn.ipynb",
      "provenance": []
    },
    "kernelspec": {
      "name": "python3",
      "display_name": "Python 3"
    }
  },
  "cells": [
    {
      "cell_type": "code",
      "metadata": {
        "id": "jc-gP_Z9fs4E",
        "colab_type": "code",
        "colab": {}
      },
      "source": [
        "from sklearn import datasets"
      ],
      "execution_count": 2,
      "outputs": []
    },
    {
      "cell_type": "code",
      "metadata": {
        "id": "BhcXMajUf3HN",
        "colab_type": "code",
        "colab": {}
      },
      "source": [
        "iris = datasets.load_iris()"
      ],
      "execution_count": 5,
      "outputs": []
    },
    {
      "cell_type": "code",
      "metadata": {
        "id": "hsP-dbpEgR6d",
        "colab_type": "code",
        "colab": {
          "base_uri": "https://localhost:8080/",
          "height": 1000
        },
        "outputId": "e89a4b0e-3481-42b6-93d5-661a8f95b001"
      },
      "source": [
        "iris"
      ],
      "execution_count": 6,
      "outputs": [
        {
          "output_type": "execute_result",
          "data": {
            "text/plain": [
              "{'DESCR': '.. _iris_dataset:\\n\\nIris plants dataset\\n--------------------\\n\\n**Data Set Characteristics:**\\n\\n    :Number of Instances: 150 (50 in each of three classes)\\n    :Number of Attributes: 4 numeric, predictive attributes and the class\\n    :Attribute Information:\\n        - sepal length in cm\\n        - sepal width in cm\\n        - petal length in cm\\n        - petal width in cm\\n        - class:\\n                - Iris-Setosa\\n                - Iris-Versicolour\\n                - Iris-Virginica\\n                \\n    :Summary Statistics:\\n\\n    ============== ==== ==== ======= ===== ====================\\n                    Min  Max   Mean    SD   Class Correlation\\n    ============== ==== ==== ======= ===== ====================\\n    sepal length:   4.3  7.9   5.84   0.83    0.7826\\n    sepal width:    2.0  4.4   3.05   0.43   -0.4194\\n    petal length:   1.0  6.9   3.76   1.76    0.9490  (high!)\\n    petal width:    0.1  2.5   1.20   0.76    0.9565  (high!)\\n    ============== ==== ==== ======= ===== ====================\\n\\n    :Missing Attribute Values: None\\n    :Class Distribution: 33.3% for each of 3 classes.\\n    :Creator: R.A. Fisher\\n    :Donor: Michael Marshall (MARSHALL%PLU@io.arc.nasa.gov)\\n    :Date: July, 1988\\n\\nThe famous Iris database, first used by Sir R.A. Fisher. The dataset is taken\\nfrom Fisher\\'s paper. Note that it\\'s the same as in R, but not as in the UCI\\nMachine Learning Repository, which has two wrong data points.\\n\\nThis is perhaps the best known database to be found in the\\npattern recognition literature.  Fisher\\'s paper is a classic in the field and\\nis referenced frequently to this day.  (See Duda & Hart, for example.)  The\\ndata set contains 3 classes of 50 instances each, where each class refers to a\\ntype of iris plant.  One class is linearly separable from the other 2; the\\nlatter are NOT linearly separable from each other.\\n\\n.. topic:: References\\n\\n   - Fisher, R.A. \"The use of multiple measurements in taxonomic problems\"\\n     Annual Eugenics, 7, Part II, 179-188 (1936); also in \"Contributions to\\n     Mathematical Statistics\" (John Wiley, NY, 1950).\\n   - Duda, R.O., & Hart, P.E. (1973) Pattern Classification and Scene Analysis.\\n     (Q327.D83) John Wiley & Sons.  ISBN 0-471-22361-1.  See page 218.\\n   - Dasarathy, B.V. (1980) \"Nosing Around the Neighborhood: A New System\\n     Structure and Classification Rule for Recognition in Partially Exposed\\n     Environments\".  IEEE Transactions on Pattern Analysis and Machine\\n     Intelligence, Vol. PAMI-2, No. 1, 67-71.\\n   - Gates, G.W. (1972) \"The Reduced Nearest Neighbor Rule\".  IEEE Transactions\\n     on Information Theory, May 1972, 431-433.\\n   - See also: 1988 MLC Proceedings, 54-64.  Cheeseman et al\"s AUTOCLASS II\\n     conceptual clustering system finds 3 classes in the data.\\n   - Many, many more ...',\n",
              " 'data': array([[5.1, 3.5, 1.4, 0.2],\n",
              "        [4.9, 3. , 1.4, 0.2],\n",
              "        [4.7, 3.2, 1.3, 0.2],\n",
              "        [4.6, 3.1, 1.5, 0.2],\n",
              "        [5. , 3.6, 1.4, 0.2],\n",
              "        [5.4, 3.9, 1.7, 0.4],\n",
              "        [4.6, 3.4, 1.4, 0.3],\n",
              "        [5. , 3.4, 1.5, 0.2],\n",
              "        [4.4, 2.9, 1.4, 0.2],\n",
              "        [4.9, 3.1, 1.5, 0.1],\n",
              "        [5.4, 3.7, 1.5, 0.2],\n",
              "        [4.8, 3.4, 1.6, 0.2],\n",
              "        [4.8, 3. , 1.4, 0.1],\n",
              "        [4.3, 3. , 1.1, 0.1],\n",
              "        [5.8, 4. , 1.2, 0.2],\n",
              "        [5.7, 4.4, 1.5, 0.4],\n",
              "        [5.4, 3.9, 1.3, 0.4],\n",
              "        [5.1, 3.5, 1.4, 0.3],\n",
              "        [5.7, 3.8, 1.7, 0.3],\n",
              "        [5.1, 3.8, 1.5, 0.3],\n",
              "        [5.4, 3.4, 1.7, 0.2],\n",
              "        [5.1, 3.7, 1.5, 0.4],\n",
              "        [4.6, 3.6, 1. , 0.2],\n",
              "        [5.1, 3.3, 1.7, 0.5],\n",
              "        [4.8, 3.4, 1.9, 0.2],\n",
              "        [5. , 3. , 1.6, 0.2],\n",
              "        [5. , 3.4, 1.6, 0.4],\n",
              "        [5.2, 3.5, 1.5, 0.2],\n",
              "        [5.2, 3.4, 1.4, 0.2],\n",
              "        [4.7, 3.2, 1.6, 0.2],\n",
              "        [4.8, 3.1, 1.6, 0.2],\n",
              "        [5.4, 3.4, 1.5, 0.4],\n",
              "        [5.2, 4.1, 1.5, 0.1],\n",
              "        [5.5, 4.2, 1.4, 0.2],\n",
              "        [4.9, 3.1, 1.5, 0.2],\n",
              "        [5. , 3.2, 1.2, 0.2],\n",
              "        [5.5, 3.5, 1.3, 0.2],\n",
              "        [4.9, 3.6, 1.4, 0.1],\n",
              "        [4.4, 3. , 1.3, 0.2],\n",
              "        [5.1, 3.4, 1.5, 0.2],\n",
              "        [5. , 3.5, 1.3, 0.3],\n",
              "        [4.5, 2.3, 1.3, 0.3],\n",
              "        [4.4, 3.2, 1.3, 0.2],\n",
              "        [5. , 3.5, 1.6, 0.6],\n",
              "        [5.1, 3.8, 1.9, 0.4],\n",
              "        [4.8, 3. , 1.4, 0.3],\n",
              "        [5.1, 3.8, 1.6, 0.2],\n",
              "        [4.6, 3.2, 1.4, 0.2],\n",
              "        [5.3, 3.7, 1.5, 0.2],\n",
              "        [5. , 3.3, 1.4, 0.2],\n",
              "        [7. , 3.2, 4.7, 1.4],\n",
              "        [6.4, 3.2, 4.5, 1.5],\n",
              "        [6.9, 3.1, 4.9, 1.5],\n",
              "        [5.5, 2.3, 4. , 1.3],\n",
              "        [6.5, 2.8, 4.6, 1.5],\n",
              "        [5.7, 2.8, 4.5, 1.3],\n",
              "        [6.3, 3.3, 4.7, 1.6],\n",
              "        [4.9, 2.4, 3.3, 1. ],\n",
              "        [6.6, 2.9, 4.6, 1.3],\n",
              "        [5.2, 2.7, 3.9, 1.4],\n",
              "        [5. , 2. , 3.5, 1. ],\n",
              "        [5.9, 3. , 4.2, 1.5],\n",
              "        [6. , 2.2, 4. , 1. ],\n",
              "        [6.1, 2.9, 4.7, 1.4],\n",
              "        [5.6, 2.9, 3.6, 1.3],\n",
              "        [6.7, 3.1, 4.4, 1.4],\n",
              "        [5.6, 3. , 4.5, 1.5],\n",
              "        [5.8, 2.7, 4.1, 1. ],\n",
              "        [6.2, 2.2, 4.5, 1.5],\n",
              "        [5.6, 2.5, 3.9, 1.1],\n",
              "        [5.9, 3.2, 4.8, 1.8],\n",
              "        [6.1, 2.8, 4. , 1.3],\n",
              "        [6.3, 2.5, 4.9, 1.5],\n",
              "        [6.1, 2.8, 4.7, 1.2],\n",
              "        [6.4, 2.9, 4.3, 1.3],\n",
              "        [6.6, 3. , 4.4, 1.4],\n",
              "        [6.8, 2.8, 4.8, 1.4],\n",
              "        [6.7, 3. , 5. , 1.7],\n",
              "        [6. , 2.9, 4.5, 1.5],\n",
              "        [5.7, 2.6, 3.5, 1. ],\n",
              "        [5.5, 2.4, 3.8, 1.1],\n",
              "        [5.5, 2.4, 3.7, 1. ],\n",
              "        [5.8, 2.7, 3.9, 1.2],\n",
              "        [6. , 2.7, 5.1, 1.6],\n",
              "        [5.4, 3. , 4.5, 1.5],\n",
              "        [6. , 3.4, 4.5, 1.6],\n",
              "        [6.7, 3.1, 4.7, 1.5],\n",
              "        [6.3, 2.3, 4.4, 1.3],\n",
              "        [5.6, 3. , 4.1, 1.3],\n",
              "        [5.5, 2.5, 4. , 1.3],\n",
              "        [5.5, 2.6, 4.4, 1.2],\n",
              "        [6.1, 3. , 4.6, 1.4],\n",
              "        [5.8, 2.6, 4. , 1.2],\n",
              "        [5. , 2.3, 3.3, 1. ],\n",
              "        [5.6, 2.7, 4.2, 1.3],\n",
              "        [5.7, 3. , 4.2, 1.2],\n",
              "        [5.7, 2.9, 4.2, 1.3],\n",
              "        [6.2, 2.9, 4.3, 1.3],\n",
              "        [5.1, 2.5, 3. , 1.1],\n",
              "        [5.7, 2.8, 4.1, 1.3],\n",
              "        [6.3, 3.3, 6. , 2.5],\n",
              "        [5.8, 2.7, 5.1, 1.9],\n",
              "        [7.1, 3. , 5.9, 2.1],\n",
              "        [6.3, 2.9, 5.6, 1.8],\n",
              "        [6.5, 3. , 5.8, 2.2],\n",
              "        [7.6, 3. , 6.6, 2.1],\n",
              "        [4.9, 2.5, 4.5, 1.7],\n",
              "        [7.3, 2.9, 6.3, 1.8],\n",
              "        [6.7, 2.5, 5.8, 1.8],\n",
              "        [7.2, 3.6, 6.1, 2.5],\n",
              "        [6.5, 3.2, 5.1, 2. ],\n",
              "        [6.4, 2.7, 5.3, 1.9],\n",
              "        [6.8, 3. , 5.5, 2.1],\n",
              "        [5.7, 2.5, 5. , 2. ],\n",
              "        [5.8, 2.8, 5.1, 2.4],\n",
              "        [6.4, 3.2, 5.3, 2.3],\n",
              "        [6.5, 3. , 5.5, 1.8],\n",
              "        [7.7, 3.8, 6.7, 2.2],\n",
              "        [7.7, 2.6, 6.9, 2.3],\n",
              "        [6. , 2.2, 5. , 1.5],\n",
              "        [6.9, 3.2, 5.7, 2.3],\n",
              "        [5.6, 2.8, 4.9, 2. ],\n",
              "        [7.7, 2.8, 6.7, 2. ],\n",
              "        [6.3, 2.7, 4.9, 1.8],\n",
              "        [6.7, 3.3, 5.7, 2.1],\n",
              "        [7.2, 3.2, 6. , 1.8],\n",
              "        [6.2, 2.8, 4.8, 1.8],\n",
              "        [6.1, 3. , 4.9, 1.8],\n",
              "        [6.4, 2.8, 5.6, 2.1],\n",
              "        [7.2, 3. , 5.8, 1.6],\n",
              "        [7.4, 2.8, 6.1, 1.9],\n",
              "        [7.9, 3.8, 6.4, 2. ],\n",
              "        [6.4, 2.8, 5.6, 2.2],\n",
              "        [6.3, 2.8, 5.1, 1.5],\n",
              "        [6.1, 2.6, 5.6, 1.4],\n",
              "        [7.7, 3. , 6.1, 2.3],\n",
              "        [6.3, 3.4, 5.6, 2.4],\n",
              "        [6.4, 3.1, 5.5, 1.8],\n",
              "        [6. , 3. , 4.8, 1.8],\n",
              "        [6.9, 3.1, 5.4, 2.1],\n",
              "        [6.7, 3.1, 5.6, 2.4],\n",
              "        [6.9, 3.1, 5.1, 2.3],\n",
              "        [5.8, 2.7, 5.1, 1.9],\n",
              "        [6.8, 3.2, 5.9, 2.3],\n",
              "        [6.7, 3.3, 5.7, 2.5],\n",
              "        [6.7, 3. , 5.2, 2.3],\n",
              "        [6.3, 2.5, 5. , 1.9],\n",
              "        [6.5, 3. , 5.2, 2. ],\n",
              "        [6.2, 3.4, 5.4, 2.3],\n",
              "        [5.9, 3. , 5.1, 1.8]]),\n",
              " 'feature_names': ['sepal length (cm)',\n",
              "  'sepal width (cm)',\n",
              "  'petal length (cm)',\n",
              "  'petal width (cm)'],\n",
              " 'filename': '/usr/local/lib/python3.6/dist-packages/sklearn/datasets/data/iris.csv',\n",
              " 'target': array([0, 0, 0, 0, 0, 0, 0, 0, 0, 0, 0, 0, 0, 0, 0, 0, 0, 0, 0, 0, 0, 0,\n",
              "        0, 0, 0, 0, 0, 0, 0, 0, 0, 0, 0, 0, 0, 0, 0, 0, 0, 0, 0, 0, 0, 0,\n",
              "        0, 0, 0, 0, 0, 0, 1, 1, 1, 1, 1, 1, 1, 1, 1, 1, 1, 1, 1, 1, 1, 1,\n",
              "        1, 1, 1, 1, 1, 1, 1, 1, 1, 1, 1, 1, 1, 1, 1, 1, 1, 1, 1, 1, 1, 1,\n",
              "        1, 1, 1, 1, 1, 1, 1, 1, 1, 1, 1, 1, 2, 2, 2, 2, 2, 2, 2, 2, 2, 2,\n",
              "        2, 2, 2, 2, 2, 2, 2, 2, 2, 2, 2, 2, 2, 2, 2, 2, 2, 2, 2, 2, 2, 2,\n",
              "        2, 2, 2, 2, 2, 2, 2, 2, 2, 2, 2, 2, 2, 2, 2, 2, 2, 2]),\n",
              " 'target_names': array(['setosa', 'versicolor', 'virginica'], dtype='<U10')}"
            ]
          },
          "metadata": {
            "tags": []
          },
          "execution_count": 6
        }
      ]
    },
    {
      "cell_type": "code",
      "metadata": {
        "id": "-IyMKeKFgbah",
        "colab_type": "code",
        "colab": {}
      },
      "source": [
        "x = iris.data\n",
        "y = iris.target"
      ],
      "execution_count": 96,
      "outputs": []
    },
    {
      "cell_type": "code",
      "metadata": {
        "id": "5JeqgiRig4VR",
        "colab_type": "code",
        "colab": {
          "base_uri": "https://localhost:8080/",
          "height": 1000
        },
        "outputId": "3504a3a6-7dfb-47bc-9716-5148dc468135"
      },
      "source": [
        "x"
      ],
      "execution_count": 97,
      "outputs": [
        {
          "output_type": "execute_result",
          "data": {
            "text/plain": [
              "array([[5.1, 3.5, 1.4, 0.2],\n",
              "       [4.9, 3. , 1.4, 0.2],\n",
              "       [4.7, 3.2, 1.3, 0.2],\n",
              "       [4.6, 3.1, 1.5, 0.2],\n",
              "       [5. , 3.6, 1.4, 0.2],\n",
              "       [5.4, 3.9, 1.7, 0.4],\n",
              "       [4.6, 3.4, 1.4, 0.3],\n",
              "       [5. , 3.4, 1.5, 0.2],\n",
              "       [4.4, 2.9, 1.4, 0.2],\n",
              "       [4.9, 3.1, 1.5, 0.1],\n",
              "       [5.4, 3.7, 1.5, 0.2],\n",
              "       [4.8, 3.4, 1.6, 0.2],\n",
              "       [4.8, 3. , 1.4, 0.1],\n",
              "       [4.3, 3. , 1.1, 0.1],\n",
              "       [5.8, 4. , 1.2, 0.2],\n",
              "       [5.7, 4.4, 1.5, 0.4],\n",
              "       [5.4, 3.9, 1.3, 0.4],\n",
              "       [5.1, 3.5, 1.4, 0.3],\n",
              "       [5.7, 3.8, 1.7, 0.3],\n",
              "       [5.1, 3.8, 1.5, 0.3],\n",
              "       [5.4, 3.4, 1.7, 0.2],\n",
              "       [5.1, 3.7, 1.5, 0.4],\n",
              "       [4.6, 3.6, 1. , 0.2],\n",
              "       [5.1, 3.3, 1.7, 0.5],\n",
              "       [4.8, 3.4, 1.9, 0.2],\n",
              "       [5. , 3. , 1.6, 0.2],\n",
              "       [5. , 3.4, 1.6, 0.4],\n",
              "       [5.2, 3.5, 1.5, 0.2],\n",
              "       [5.2, 3.4, 1.4, 0.2],\n",
              "       [4.7, 3.2, 1.6, 0.2],\n",
              "       [4.8, 3.1, 1.6, 0.2],\n",
              "       [5.4, 3.4, 1.5, 0.4],\n",
              "       [5.2, 4.1, 1.5, 0.1],\n",
              "       [5.5, 4.2, 1.4, 0.2],\n",
              "       [4.9, 3.1, 1.5, 0.2],\n",
              "       [5. , 3.2, 1.2, 0.2],\n",
              "       [5.5, 3.5, 1.3, 0.2],\n",
              "       [4.9, 3.6, 1.4, 0.1],\n",
              "       [4.4, 3. , 1.3, 0.2],\n",
              "       [5.1, 3.4, 1.5, 0.2],\n",
              "       [5. , 3.5, 1.3, 0.3],\n",
              "       [4.5, 2.3, 1.3, 0.3],\n",
              "       [4.4, 3.2, 1.3, 0.2],\n",
              "       [5. , 3.5, 1.6, 0.6],\n",
              "       [5.1, 3.8, 1.9, 0.4],\n",
              "       [4.8, 3. , 1.4, 0.3],\n",
              "       [5.1, 3.8, 1.6, 0.2],\n",
              "       [4.6, 3.2, 1.4, 0.2],\n",
              "       [5.3, 3.7, 1.5, 0.2],\n",
              "       [5. , 3.3, 1.4, 0.2],\n",
              "       [7. , 3.2, 4.7, 1.4],\n",
              "       [6.4, 3.2, 4.5, 1.5],\n",
              "       [6.9, 3.1, 4.9, 1.5],\n",
              "       [5.5, 2.3, 4. , 1.3],\n",
              "       [6.5, 2.8, 4.6, 1.5],\n",
              "       [5.7, 2.8, 4.5, 1.3],\n",
              "       [6.3, 3.3, 4.7, 1.6],\n",
              "       [4.9, 2.4, 3.3, 1. ],\n",
              "       [6.6, 2.9, 4.6, 1.3],\n",
              "       [5.2, 2.7, 3.9, 1.4],\n",
              "       [5. , 2. , 3.5, 1. ],\n",
              "       [5.9, 3. , 4.2, 1.5],\n",
              "       [6. , 2.2, 4. , 1. ],\n",
              "       [6.1, 2.9, 4.7, 1.4],\n",
              "       [5.6, 2.9, 3.6, 1.3],\n",
              "       [6.7, 3.1, 4.4, 1.4],\n",
              "       [5.6, 3. , 4.5, 1.5],\n",
              "       [5.8, 2.7, 4.1, 1. ],\n",
              "       [6.2, 2.2, 4.5, 1.5],\n",
              "       [5.6, 2.5, 3.9, 1.1],\n",
              "       [5.9, 3.2, 4.8, 1.8],\n",
              "       [6.1, 2.8, 4. , 1.3],\n",
              "       [6.3, 2.5, 4.9, 1.5],\n",
              "       [6.1, 2.8, 4.7, 1.2],\n",
              "       [6.4, 2.9, 4.3, 1.3],\n",
              "       [6.6, 3. , 4.4, 1.4],\n",
              "       [6.8, 2.8, 4.8, 1.4],\n",
              "       [6.7, 3. , 5. , 1.7],\n",
              "       [6. , 2.9, 4.5, 1.5],\n",
              "       [5.7, 2.6, 3.5, 1. ],\n",
              "       [5.5, 2.4, 3.8, 1.1],\n",
              "       [5.5, 2.4, 3.7, 1. ],\n",
              "       [5.8, 2.7, 3.9, 1.2],\n",
              "       [6. , 2.7, 5.1, 1.6],\n",
              "       [5.4, 3. , 4.5, 1.5],\n",
              "       [6. , 3.4, 4.5, 1.6],\n",
              "       [6.7, 3.1, 4.7, 1.5],\n",
              "       [6.3, 2.3, 4.4, 1.3],\n",
              "       [5.6, 3. , 4.1, 1.3],\n",
              "       [5.5, 2.5, 4. , 1.3],\n",
              "       [5.5, 2.6, 4.4, 1.2],\n",
              "       [6.1, 3. , 4.6, 1.4],\n",
              "       [5.8, 2.6, 4. , 1.2],\n",
              "       [5. , 2.3, 3.3, 1. ],\n",
              "       [5.6, 2.7, 4.2, 1.3],\n",
              "       [5.7, 3. , 4.2, 1.2],\n",
              "       [5.7, 2.9, 4.2, 1.3],\n",
              "       [6.2, 2.9, 4.3, 1.3],\n",
              "       [5.1, 2.5, 3. , 1.1],\n",
              "       [5.7, 2.8, 4.1, 1.3],\n",
              "       [6.3, 3.3, 6. , 2.5],\n",
              "       [5.8, 2.7, 5.1, 1.9],\n",
              "       [7.1, 3. , 5.9, 2.1],\n",
              "       [6.3, 2.9, 5.6, 1.8],\n",
              "       [6.5, 3. , 5.8, 2.2],\n",
              "       [7.6, 3. , 6.6, 2.1],\n",
              "       [4.9, 2.5, 4.5, 1.7],\n",
              "       [7.3, 2.9, 6.3, 1.8],\n",
              "       [6.7, 2.5, 5.8, 1.8],\n",
              "       [7.2, 3.6, 6.1, 2.5],\n",
              "       [6.5, 3.2, 5.1, 2. ],\n",
              "       [6.4, 2.7, 5.3, 1.9],\n",
              "       [6.8, 3. , 5.5, 2.1],\n",
              "       [5.7, 2.5, 5. , 2. ],\n",
              "       [5.8, 2.8, 5.1, 2.4],\n",
              "       [6.4, 3.2, 5.3, 2.3],\n",
              "       [6.5, 3. , 5.5, 1.8],\n",
              "       [7.7, 3.8, 6.7, 2.2],\n",
              "       [7.7, 2.6, 6.9, 2.3],\n",
              "       [6. , 2.2, 5. , 1.5],\n",
              "       [6.9, 3.2, 5.7, 2.3],\n",
              "       [5.6, 2.8, 4.9, 2. ],\n",
              "       [7.7, 2.8, 6.7, 2. ],\n",
              "       [6.3, 2.7, 4.9, 1.8],\n",
              "       [6.7, 3.3, 5.7, 2.1],\n",
              "       [7.2, 3.2, 6. , 1.8],\n",
              "       [6.2, 2.8, 4.8, 1.8],\n",
              "       [6.1, 3. , 4.9, 1.8],\n",
              "       [6.4, 2.8, 5.6, 2.1],\n",
              "       [7.2, 3. , 5.8, 1.6],\n",
              "       [7.4, 2.8, 6.1, 1.9],\n",
              "       [7.9, 3.8, 6.4, 2. ],\n",
              "       [6.4, 2.8, 5.6, 2.2],\n",
              "       [6.3, 2.8, 5.1, 1.5],\n",
              "       [6.1, 2.6, 5.6, 1.4],\n",
              "       [7.7, 3. , 6.1, 2.3],\n",
              "       [6.3, 3.4, 5.6, 2.4],\n",
              "       [6.4, 3.1, 5.5, 1.8],\n",
              "       [6. , 3. , 4.8, 1.8],\n",
              "       [6.9, 3.1, 5.4, 2.1],\n",
              "       [6.7, 3.1, 5.6, 2.4],\n",
              "       [6.9, 3.1, 5.1, 2.3],\n",
              "       [5.8, 2.7, 5.1, 1.9],\n",
              "       [6.8, 3.2, 5.9, 2.3],\n",
              "       [6.7, 3.3, 5.7, 2.5],\n",
              "       [6.7, 3. , 5.2, 2.3],\n",
              "       [6.3, 2.5, 5. , 1.9],\n",
              "       [6.5, 3. , 5.2, 2. ],\n",
              "       [6.2, 3.4, 5.4, 2.3],\n",
              "       [5.9, 3. , 5.1, 1.8]])"
            ]
          },
          "metadata": {
            "tags": []
          },
          "execution_count": 97
        }
      ]
    },
    {
      "cell_type": "code",
      "metadata": {
        "id": "TRTok_UFg6zM",
        "colab_type": "code",
        "colab": {
          "base_uri": "https://localhost:8080/",
          "height": 134
        },
        "outputId": "4bba21fe-54c4-4ec2-c1f6-5fd8b23c964d"
      },
      "source": [
        "y"
      ],
      "execution_count": 98,
      "outputs": [
        {
          "output_type": "execute_result",
          "data": {
            "text/plain": [
              "array([0, 0, 0, 0, 0, 0, 0, 0, 0, 0, 0, 0, 0, 0, 0, 0, 0, 0, 0, 0, 0, 0,\n",
              "       0, 0, 0, 0, 0, 0, 0, 0, 0, 0, 0, 0, 0, 0, 0, 0, 0, 0, 0, 0, 0, 0,\n",
              "       0, 0, 0, 0, 0, 0, 1, 1, 1, 1, 1, 1, 1, 1, 1, 1, 1, 1, 1, 1, 1, 1,\n",
              "       1, 1, 1, 1, 1, 1, 1, 1, 1, 1, 1, 1, 1, 1, 1, 1, 1, 1, 1, 1, 1, 1,\n",
              "       1, 1, 1, 1, 1, 1, 1, 1, 1, 1, 1, 1, 2, 2, 2, 2, 2, 2, 2, 2, 2, 2,\n",
              "       2, 2, 2, 2, 2, 2, 2, 2, 2, 2, 2, 2, 2, 2, 2, 2, 2, 2, 2, 2, 2, 2,\n",
              "       2, 2, 2, 2, 2, 2, 2, 2, 2, 2, 2, 2, 2, 2, 2, 2, 2, 2])"
            ]
          },
          "metadata": {
            "tags": []
          },
          "execution_count": 98
        }
      ]
    },
    {
      "cell_type": "code",
      "metadata": {
        "id": "suP1ZTAFg9He",
        "colab_type": "code",
        "colab": {}
      },
      "source": [
        "from sklearn.model_selection import train_test_split"
      ],
      "execution_count": 99,
      "outputs": []
    },
    {
      "cell_type": "code",
      "metadata": {
        "id": "AmzqSgcakBDQ",
        "colab_type": "code",
        "colab": {}
      },
      "source": [
        "x_train,y_train,x_test,y_test = train_test_split(x,y,shuffle=True)\n",
        "\n",
        "\n",
        "#test_size=ratio of devision\n",
        "#if test size =0.33 then 70%  od data goes to training and remaining goes for testing\n",
        "#shuffle = True"
      ],
      "execution_count": 100,
      "outputs": []
    },
    {
      "cell_type": "code",
      "metadata": {
        "id": "1v2XuTFGkcAs",
        "colab_type": "code",
        "colab": {
          "base_uri": "https://localhost:8080/",
          "height": 1000
        },
        "outputId": "da51389b-0c23-413d-cc29-855d92e0c18b"
      },
      "source": [
        "x_train"
      ],
      "execution_count": 101,
      "outputs": [
        {
          "output_type": "execute_result",
          "data": {
            "text/plain": [
              "array([[5.4, 3. , 4.5, 1.5],\n",
              "       [4.8, 3. , 1.4, 0.1],\n",
              "       [5.8, 2.7, 4.1, 1. ],\n",
              "       [5.7, 4.4, 1.5, 0.4],\n",
              "       [5.1, 3.8, 1.6, 0.2],\n",
              "       [6.7, 2.5, 5.8, 1.8],\n",
              "       [5.6, 2.9, 3.6, 1.3],\n",
              "       [4.9, 2.4, 3.3, 1. ],\n",
              "       [6.9, 3.1, 5.1, 2.3],\n",
              "       [4.8, 3.1, 1.6, 0.2],\n",
              "       [4.8, 3. , 1.4, 0.3],\n",
              "       [5. , 3.2, 1.2, 0.2],\n",
              "       [6.4, 2.8, 5.6, 2.1],\n",
              "       [5.8, 2.8, 5.1, 2.4],\n",
              "       [4.4, 3. , 1.3, 0.2],\n",
              "       [6.3, 2.5, 4.9, 1.5],\n",
              "       [5. , 3.5, 1.6, 0.6],\n",
              "       [6.3, 2.5, 5. , 1.9],\n",
              "       [5. , 2. , 3.5, 1. ],\n",
              "       [5.1, 3.8, 1.9, 0.4],\n",
              "       [5. , 3.4, 1.5, 0.2],\n",
              "       [5.9, 3.2, 4.8, 1.8],\n",
              "       [4.9, 3.6, 1.4, 0.1],\n",
              "       [4.6, 3.6, 1. , 0.2],\n",
              "       [5.2, 3.5, 1.5, 0.2],\n",
              "       [6.4, 3.2, 4.5, 1.5],\n",
              "       [4.6, 3.2, 1.4, 0.2],\n",
              "       [7.2, 3. , 5.8, 1.6],\n",
              "       [5.8, 2.6, 4. , 1.2],\n",
              "       [6.9, 3.1, 4.9, 1.5],\n",
              "       [5.5, 4.2, 1.4, 0.2],\n",
              "       [7.3, 2.9, 6.3, 1.8],\n",
              "       [5.8, 2.7, 3.9, 1.2],\n",
              "       [5.4, 3.9, 1.3, 0.4],\n",
              "       [5.1, 3.5, 1.4, 0.3],\n",
              "       [6.3, 2.7, 4.9, 1.8],\n",
              "       [4.9, 2.5, 4.5, 1.7],\n",
              "       [5.5, 2.6, 4.4, 1.2],\n",
              "       [5.7, 2.8, 4.5, 1.3],\n",
              "       [6.3, 3.3, 6. , 2.5],\n",
              "       [7.7, 2.6, 6.9, 2.3],\n",
              "       [7.6, 3. , 6.6, 2.1],\n",
              "       [5.9, 3. , 5.1, 1.8],\n",
              "       [4.7, 3.2, 1.3, 0.2],\n",
              "       [5.6, 2.5, 3.9, 1.1],\n",
              "       [5.8, 2.7, 5.1, 1.9],\n",
              "       [5. , 3. , 1.6, 0.2],\n",
              "       [6.8, 3.2, 5.9, 2.3],\n",
              "       [5.7, 3.8, 1.7, 0.3],\n",
              "       [5.7, 2.8, 4.1, 1.3],\n",
              "       [5. , 2.3, 3.3, 1. ],\n",
              "       [7.7, 3. , 6.1, 2.3],\n",
              "       [6.3, 2.3, 4.4, 1.3],\n",
              "       [6.8, 3. , 5.5, 2.1],\n",
              "       [6.3, 3.4, 5.6, 2.4],\n",
              "       [5.6, 2.7, 4.2, 1.3],\n",
              "       [5.6, 2.8, 4.9, 2. ],\n",
              "       [6.2, 2.2, 4.5, 1.5],\n",
              "       [5.8, 4. , 1.2, 0.2],\n",
              "       [6.3, 2.9, 5.6, 1.8],\n",
              "       [7.9, 3.8, 6.4, 2. ],\n",
              "       [4.9, 3.1, 1.5, 0.1],\n",
              "       [5.5, 2.4, 3.8, 1.1],\n",
              "       [5.4, 3.4, 1.7, 0.2],\n",
              "       [5.2, 2.7, 3.9, 1.4],\n",
              "       [5.1, 3.5, 1.4, 0.2],\n",
              "       [7.7, 2.8, 6.7, 2. ],\n",
              "       [4.9, 3. , 1.4, 0.2],\n",
              "       [6.5, 3. , 5.2, 2. ],\n",
              "       [6. , 2.2, 5. , 1.5],\n",
              "       [6.7, 3. , 5.2, 2.3],\n",
              "       [5.7, 2.6, 3.5, 1. ],\n",
              "       [5.4, 3.4, 1.5, 0.4],\n",
              "       [6.5, 2.8, 4.6, 1.5],\n",
              "       [5. , 3.3, 1.4, 0.2],\n",
              "       [7.4, 2.8, 6.1, 1.9],\n",
              "       [4.4, 2.9, 1.4, 0.2],\n",
              "       [6.7, 3.1, 4.7, 1.5],\n",
              "       [6.1, 2.8, 4. , 1.3],\n",
              "       [6. , 2.9, 4.5, 1.5],\n",
              "       [6.3, 2.8, 5.1, 1.5],\n",
              "       [6.1, 2.6, 5.6, 1.4],\n",
              "       [6. , 2.7, 5.1, 1.6],\n",
              "       [6.5, 3. , 5.8, 2.2],\n",
              "       [6.5, 3.2, 5.1, 2. ],\n",
              "       [5.7, 2.9, 4.2, 1.3],\n",
              "       [6.4, 3.1, 5.5, 1.8],\n",
              "       [7.2, 3.2, 6. , 1.8],\n",
              "       [6.4, 2.9, 4.3, 1.3],\n",
              "       [5.4, 3.7, 1.5, 0.2],\n",
              "       [5.5, 2.4, 3.7, 1. ],\n",
              "       [6.2, 2.9, 4.3, 1.3],\n",
              "       [5.1, 3.8, 1.5, 0.3],\n",
              "       [6. , 2.2, 4. , 1. ],\n",
              "       [6.2, 2.8, 4.8, 1.8],\n",
              "       [6. , 3. , 4.8, 1.8],\n",
              "       [5.5, 2.5, 4. , 1.3],\n",
              "       [6.7, 3.3, 5.7, 2.5],\n",
              "       [6.6, 2.9, 4.6, 1.3],\n",
              "       [4.6, 3.1, 1.5, 0.2],\n",
              "       [6.1, 3. , 4.6, 1.4],\n",
              "       [5. , 3.6, 1.4, 0.2],\n",
              "       [5.3, 3.7, 1.5, 0.2],\n",
              "       [5. , 3.4, 1.6, 0.4],\n",
              "       [4.8, 3.4, 1.6, 0.2],\n",
              "       [4.4, 3.2, 1.3, 0.2],\n",
              "       [6.3, 3.3, 4.7, 1.6],\n",
              "       [5.7, 2.5, 5. , 2. ],\n",
              "       [6.1, 3. , 4.9, 1.8],\n",
              "       [4.3, 3. , 1.1, 0.1],\n",
              "       [5.4, 3.9, 1.7, 0.4],\n",
              "       [7.7, 3.8, 6.7, 2.2]])"
            ]
          },
          "metadata": {
            "tags": []
          },
          "execution_count": 101
        }
      ]
    },
    {
      "cell_type": "code",
      "metadata": {
        "id": "VVYNZYRLki3A",
        "colab_type": "code",
        "colab": {
          "base_uri": "https://localhost:8080/",
          "height": 118
        },
        "outputId": "ecda7be6-c4fd-42ed-f6b7-7d66d07e480c"
      },
      "source": [
        "x_test"
      ],
      "execution_count": 102,
      "outputs": [
        {
          "output_type": "execute_result",
          "data": {
            "text/plain": [
              "array([1, 0, 1, 0, 0, 2, 1, 1, 2, 0, 0, 0, 2, 2, 0, 1, 0, 2, 1, 0, 0, 1,\n",
              "       0, 0, 0, 1, 0, 2, 1, 1, 0, 2, 1, 0, 0, 2, 2, 1, 1, 2, 2, 2, 2, 0,\n",
              "       1, 2, 0, 2, 0, 1, 1, 2, 1, 2, 2, 1, 2, 1, 0, 2, 2, 0, 1, 0, 1, 0,\n",
              "       2, 0, 2, 2, 2, 1, 0, 1, 0, 2, 0, 1, 1, 1, 2, 2, 1, 2, 2, 1, 2, 2,\n",
              "       1, 0, 1, 1, 0, 1, 2, 2, 1, 2, 1, 0, 1, 0, 0, 0, 0, 0, 1, 2, 2, 0,\n",
              "       0, 2])"
            ]
          },
          "metadata": {
            "tags": []
          },
          "execution_count": 102
        }
      ]
    },
    {
      "cell_type": "code",
      "metadata": {
        "id": "_ywYjrUVklBx",
        "colab_type": "code",
        "colab": {
          "base_uri": "https://localhost:8080/",
          "height": 34
        },
        "outputId": "3fdb7a4d-39fb-4da4-e830-78ebc31e1534"
      },
      "source": [
        "x_train[0]"
      ],
      "execution_count": 103,
      "outputs": [
        {
          "output_type": "execute_result",
          "data": {
            "text/plain": [
              "array([5.4, 3. , 4.5, 1.5])"
            ]
          },
          "metadata": {
            "tags": []
          },
          "execution_count": 103
        }
      ]
    },
    {
      "cell_type": "code",
      "metadata": {
        "id": "ldNv6P87kmgO",
        "colab_type": "code",
        "colab": {
          "base_uri": "https://localhost:8080/",
          "height": 34
        },
        "outputId": "7152fb43-e4a8-405e-bf36-7ca500a3e4ea"
      },
      "source": [
        "x_test[0]"
      ],
      "execution_count": 104,
      "outputs": [
        {
          "output_type": "execute_result",
          "data": {
            "text/plain": [
              "1"
            ]
          },
          "metadata": {
            "tags": []
          },
          "execution_count": 104
        }
      ]
    },
    {
      "cell_type": "code",
      "metadata": {
        "id": "VfXnfFGSksRM",
        "colab_type": "code",
        "colab": {}
      },
      "source": [
        "from sklearn.linear_model import LinearRegression"
      ],
      "execution_count": 105,
      "outputs": []
    },
    {
      "cell_type": "markdown",
      "metadata": {
        "id": "UO5ndaevlAeG",
        "colab_type": "text"
      },
      "source": [
        "The Iris Dataset contains four features (length and width of sepals and petals) of 50 samples of three species of Iris (Iris setosa, Iris virginica and Iris versicolor). ... The dataset is often used in data mining, classification and clustering examples and to test algorithms."
      ]
    },
    {
      "cell_type": "code",
      "metadata": {
        "id": "usLLKEyPnN3j",
        "colab_type": "code",
        "colab": {}
      },
      "source": [
        "model = LinearRegression()"
      ],
      "execution_count": 106,
      "outputs": []
    },
    {
      "cell_type": "code",
      "metadata": {
        "id": "QAzQQ-87nXhI",
        "colab_type": "code",
        "colab": {
          "base_uri": "https://localhost:8080/",
          "height": 34
        },
        "outputId": "3f3b96d4-b384-4817-d4cb-ef96574886d0"
      },
      "source": [
        "model.fit(x_train,x_test)"
      ],
      "execution_count": 107,
      "outputs": [
        {
          "output_type": "execute_result",
          "data": {
            "text/plain": [
              "LinearRegression(copy_X=True, fit_intercept=True, n_jobs=None, normalize=False)"
            ]
          },
          "metadata": {
            "tags": []
          },
          "execution_count": 107
        }
      ]
    },
    {
      "cell_type": "code",
      "metadata": {
        "id": "VHEFMN-zn_bJ",
        "colab_type": "code",
        "colab": {
          "base_uri": "https://localhost:8080/",
          "height": 34
        },
        "outputId": "7a0127c7-c7f6-4bf3-b992-730101ecbf87"
      },
      "source": [
        "x.shape"
      ],
      "execution_count": 108,
      "outputs": [
        {
          "output_type": "execute_result",
          "data": {
            "text/plain": [
              "(150, 4)"
            ]
          },
          "metadata": {
            "tags": []
          },
          "execution_count": 108
        }
      ]
    },
    {
      "cell_type": "code",
      "metadata": {
        "id": "pJcf-p10oxPD",
        "colab_type": "code",
        "colab": {
          "base_uri": "https://localhost:8080/",
          "height": 34
        },
        "outputId": "8e93e738-cef3-4ea2-859f-dd74e9e811c8"
      },
      "source": [
        "y.shape"
      ],
      "execution_count": 109,
      "outputs": [
        {
          "output_type": "execute_result",
          "data": {
            "text/plain": [
              "(150,)"
            ]
          },
          "metadata": {
            "tags": []
          },
          "execution_count": 109
        }
      ]
    },
    {
      "cell_type": "code",
      "metadata": {
        "id": "X2YMfuc5oz5d",
        "colab_type": "code",
        "colab": {
          "base_uri": "https://localhost:8080/",
          "height": 34
        },
        "outputId": "387b247b-3858-466b-e297-669179c3f848"
      },
      "source": [
        "len(x_train)"
      ],
      "execution_count": 110,
      "outputs": [
        {
          "output_type": "execute_result",
          "data": {
            "text/plain": [
              "112"
            ]
          },
          "metadata": {
            "tags": []
          },
          "execution_count": 110
        }
      ]
    },
    {
      "cell_type": "code",
      "metadata": {
        "id": "ON_Jju2IpAYE",
        "colab_type": "code",
        "colab": {
          "base_uri": "https://localhost:8080/",
          "height": 34
        },
        "outputId": "ee3020e3-cde7-4f28-8965-e8234e3d1907"
      },
      "source": [
        "len(x_test)"
      ],
      "execution_count": 111,
      "outputs": [
        {
          "output_type": "execute_result",
          "data": {
            "text/plain": [
              "112"
            ]
          },
          "metadata": {
            "tags": []
          },
          "execution_count": 111
        }
      ]
    },
    {
      "cell_type": "code",
      "metadata": {
        "id": "7tXwKZpfpa_o",
        "colab_type": "code",
        "colab": {}
      },
      "source": [
        "len(y_train)\n",
        "x = x.reshape(-1,1)"
      ],
      "execution_count": 112,
      "outputs": []
    },
    {
      "cell_type": "code",
      "metadata": {
        "id": "BWyhfz2KuNBM",
        "colab_type": "code",
        "colab": {
          "base_uri": "https://localhost:8080/",
          "height": 118
        },
        "outputId": "880fcbc3-d635-4ae9-a39a-83e494a54fcb"
      },
      "source": [
        "x_test"
      ],
      "execution_count": 116,
      "outputs": [
        {
          "output_type": "execute_result",
          "data": {
            "text/plain": [
              "array([1, 0, 1, 0, 0, 2, 1, 1, 2, 0, 0, 0, 2, 2, 0, 1, 0, 2, 1, 0, 0, 1,\n",
              "       0, 0, 0, 1, 0, 2, 1, 1, 0, 2, 1, 0, 0, 2, 2, 1, 1, 2, 2, 2, 2, 0,\n",
              "       1, 2, 0, 2, 0, 1, 1, 2, 1, 2, 2, 1, 2, 1, 0, 2, 2, 0, 1, 0, 1, 0,\n",
              "       2, 0, 2, 2, 2, 1, 0, 1, 0, 2, 0, 1, 1, 1, 2, 2, 1, 2, 2, 1, 2, 2,\n",
              "       1, 0, 1, 1, 0, 1, 2, 2, 1, 2, 1, 0, 1, 0, 0, 0, 0, 0, 1, 2, 2, 0,\n",
              "       0, 2])"
            ]
          },
          "metadata": {
            "tags": []
          },
          "execution_count": 116
        }
      ]
    },
    {
      "cell_type": "code",
      "metadata": {
        "id": "3I6A7Rm9uSsv",
        "colab_type": "code",
        "colab": {
          "base_uri": "https://localhost:8080/",
          "height": 1000
        },
        "outputId": "2839f864-1cff-4077-88a5-f2ac6aacbf3d"
      },
      "source": [
        "x_train"
      ],
      "execution_count": 117,
      "outputs": [
        {
          "output_type": "execute_result",
          "data": {
            "text/plain": [
              "array([[5.4, 3. , 4.5, 1.5],\n",
              "       [4.8, 3. , 1.4, 0.1],\n",
              "       [5.8, 2.7, 4.1, 1. ],\n",
              "       [5.7, 4.4, 1.5, 0.4],\n",
              "       [5.1, 3.8, 1.6, 0.2],\n",
              "       [6.7, 2.5, 5.8, 1.8],\n",
              "       [5.6, 2.9, 3.6, 1.3],\n",
              "       [4.9, 2.4, 3.3, 1. ],\n",
              "       [6.9, 3.1, 5.1, 2.3],\n",
              "       [4.8, 3.1, 1.6, 0.2],\n",
              "       [4.8, 3. , 1.4, 0.3],\n",
              "       [5. , 3.2, 1.2, 0.2],\n",
              "       [6.4, 2.8, 5.6, 2.1],\n",
              "       [5.8, 2.8, 5.1, 2.4],\n",
              "       [4.4, 3. , 1.3, 0.2],\n",
              "       [6.3, 2.5, 4.9, 1.5],\n",
              "       [5. , 3.5, 1.6, 0.6],\n",
              "       [6.3, 2.5, 5. , 1.9],\n",
              "       [5. , 2. , 3.5, 1. ],\n",
              "       [5.1, 3.8, 1.9, 0.4],\n",
              "       [5. , 3.4, 1.5, 0.2],\n",
              "       [5.9, 3.2, 4.8, 1.8],\n",
              "       [4.9, 3.6, 1.4, 0.1],\n",
              "       [4.6, 3.6, 1. , 0.2],\n",
              "       [5.2, 3.5, 1.5, 0.2],\n",
              "       [6.4, 3.2, 4.5, 1.5],\n",
              "       [4.6, 3.2, 1.4, 0.2],\n",
              "       [7.2, 3. , 5.8, 1.6],\n",
              "       [5.8, 2.6, 4. , 1.2],\n",
              "       [6.9, 3.1, 4.9, 1.5],\n",
              "       [5.5, 4.2, 1.4, 0.2],\n",
              "       [7.3, 2.9, 6.3, 1.8],\n",
              "       [5.8, 2.7, 3.9, 1.2],\n",
              "       [5.4, 3.9, 1.3, 0.4],\n",
              "       [5.1, 3.5, 1.4, 0.3],\n",
              "       [6.3, 2.7, 4.9, 1.8],\n",
              "       [4.9, 2.5, 4.5, 1.7],\n",
              "       [5.5, 2.6, 4.4, 1.2],\n",
              "       [5.7, 2.8, 4.5, 1.3],\n",
              "       [6.3, 3.3, 6. , 2.5],\n",
              "       [7.7, 2.6, 6.9, 2.3],\n",
              "       [7.6, 3. , 6.6, 2.1],\n",
              "       [5.9, 3. , 5.1, 1.8],\n",
              "       [4.7, 3.2, 1.3, 0.2],\n",
              "       [5.6, 2.5, 3.9, 1.1],\n",
              "       [5.8, 2.7, 5.1, 1.9],\n",
              "       [5. , 3. , 1.6, 0.2],\n",
              "       [6.8, 3.2, 5.9, 2.3],\n",
              "       [5.7, 3.8, 1.7, 0.3],\n",
              "       [5.7, 2.8, 4.1, 1.3],\n",
              "       [5. , 2.3, 3.3, 1. ],\n",
              "       [7.7, 3. , 6.1, 2.3],\n",
              "       [6.3, 2.3, 4.4, 1.3],\n",
              "       [6.8, 3. , 5.5, 2.1],\n",
              "       [6.3, 3.4, 5.6, 2.4],\n",
              "       [5.6, 2.7, 4.2, 1.3],\n",
              "       [5.6, 2.8, 4.9, 2. ],\n",
              "       [6.2, 2.2, 4.5, 1.5],\n",
              "       [5.8, 4. , 1.2, 0.2],\n",
              "       [6.3, 2.9, 5.6, 1.8],\n",
              "       [7.9, 3.8, 6.4, 2. ],\n",
              "       [4.9, 3.1, 1.5, 0.1],\n",
              "       [5.5, 2.4, 3.8, 1.1],\n",
              "       [5.4, 3.4, 1.7, 0.2],\n",
              "       [5.2, 2.7, 3.9, 1.4],\n",
              "       [5.1, 3.5, 1.4, 0.2],\n",
              "       [7.7, 2.8, 6.7, 2. ],\n",
              "       [4.9, 3. , 1.4, 0.2],\n",
              "       [6.5, 3. , 5.2, 2. ],\n",
              "       [6. , 2.2, 5. , 1.5],\n",
              "       [6.7, 3. , 5.2, 2.3],\n",
              "       [5.7, 2.6, 3.5, 1. ],\n",
              "       [5.4, 3.4, 1.5, 0.4],\n",
              "       [6.5, 2.8, 4.6, 1.5],\n",
              "       [5. , 3.3, 1.4, 0.2],\n",
              "       [7.4, 2.8, 6.1, 1.9],\n",
              "       [4.4, 2.9, 1.4, 0.2],\n",
              "       [6.7, 3.1, 4.7, 1.5],\n",
              "       [6.1, 2.8, 4. , 1.3],\n",
              "       [6. , 2.9, 4.5, 1.5],\n",
              "       [6.3, 2.8, 5.1, 1.5],\n",
              "       [6.1, 2.6, 5.6, 1.4],\n",
              "       [6. , 2.7, 5.1, 1.6],\n",
              "       [6.5, 3. , 5.8, 2.2],\n",
              "       [6.5, 3.2, 5.1, 2. ],\n",
              "       [5.7, 2.9, 4.2, 1.3],\n",
              "       [6.4, 3.1, 5.5, 1.8],\n",
              "       [7.2, 3.2, 6. , 1.8],\n",
              "       [6.4, 2.9, 4.3, 1.3],\n",
              "       [5.4, 3.7, 1.5, 0.2],\n",
              "       [5.5, 2.4, 3.7, 1. ],\n",
              "       [6.2, 2.9, 4.3, 1.3],\n",
              "       [5.1, 3.8, 1.5, 0.3],\n",
              "       [6. , 2.2, 4. , 1. ],\n",
              "       [6.2, 2.8, 4.8, 1.8],\n",
              "       [6. , 3. , 4.8, 1.8],\n",
              "       [5.5, 2.5, 4. , 1.3],\n",
              "       [6.7, 3.3, 5.7, 2.5],\n",
              "       [6.6, 2.9, 4.6, 1.3],\n",
              "       [4.6, 3.1, 1.5, 0.2],\n",
              "       [6.1, 3. , 4.6, 1.4],\n",
              "       [5. , 3.6, 1.4, 0.2],\n",
              "       [5.3, 3.7, 1.5, 0.2],\n",
              "       [5. , 3.4, 1.6, 0.4],\n",
              "       [4.8, 3.4, 1.6, 0.2],\n",
              "       [4.4, 3.2, 1.3, 0.2],\n",
              "       [6.3, 3.3, 4.7, 1.6],\n",
              "       [5.7, 2.5, 5. , 2. ],\n",
              "       [6.1, 3. , 4.9, 1.8],\n",
              "       [4.3, 3. , 1.1, 0.1],\n",
              "       [5.4, 3.9, 1.7, 0.4],\n",
              "       [7.7, 3.8, 6.7, 2.2]])"
            ]
          },
          "metadata": {
            "tags": []
          },
          "execution_count": 117
        }
      ]
    },
    {
      "cell_type": "code",
      "metadata": {
        "id": "cK66t3yupe_E",
        "colab_type": "code",
        "colab": {
          "base_uri": "https://localhost:8080/",
          "height": 487
        },
        "outputId": "e4e6a1bb-6958-40e3-a9c8-8b16f4810299"
      },
      "source": [
        "model.predict(x_train)"
      ],
      "execution_count": 118,
      "outputs": [
        {
          "output_type": "execute_result",
          "data": {
            "text/plain": [
              "array([ 1.42919588e+00, -7.76582788e-02,  1.00793996e+00, -2.97491426e-02,\n",
              "       -2.93600452e-02,  1.79195180e+00,  1.06760747e+00,  9.18703030e-01,\n",
              "        1.85513147e+00,  2.65351231e-02,  3.51849798e-02, -1.01284342e-01,\n",
              "        1.93642241e+00,  2.04867169e+00, -2.20481889e-05,  1.44084436e+00,\n",
              "        2.16953205e-01,  1.69191302e+00,  9.69788194e-01,  1.59629646e-01,\n",
              "       -3.11229406e-02,  1.61037624e+00, -1.07262559e-01, -1.17421947e-01,\n",
              "       -5.74138289e-02,  1.30671899e+00, -3.92330801e-03,  1.60590003e+00,\n",
              "        1.09839359e+00,  1.35299415e+00, -1.38691141e-01,  1.83699734e+00,\n",
              "        1.07001893e+00, -3.06032937e-02, -1.47251574e-02,  1.60412421e+00,\n",
              "        1.61524765e+00,  1.23486972e+00,  1.28739009e+00,  2.26032411e+00,\n",
              "        2.23377915e+00,  2.04446858e+00,  1.69250770e+00, -4.09546385e-02,\n",
              "        1.04288070e+00,  1.76955606e+00,  6.22926595e-03,  2.06684529e+00,\n",
              "       -1.74513900e-02,  1.18586152e+00,  9.10046359e-01,  2.01875193e+00,\n",
              "        1.20707541e+00,  1.85845849e+00,  2.09938139e+00,  1.22588536e+00,\n",
              "        1.79551926e+00,  1.35994251e+00, -2.18417957e-01,  1.77581419e+00,\n",
              "        1.87839498e+00, -6.69178367e-02,  1.03214026e+00, -2.69553978e-02,\n",
              "        1.25275731e+00, -7.11467866e-02,  2.00776494e+00, -3.28858359e-02,\n",
              "        1.76083799e+00,  1.51015161e+00,  1.90680450e+00,  8.70288796e-01,\n",
              "        3.51235726e-02,  1.33242201e+00, -5.35125691e-02,  1.83399801e+00,\n",
              "        2.83526115e-02,  1.32552823e+00,  1.11388263e+00,  1.36229328e+00,\n",
              "        1.48263110e+00,  1.58240359e+00,  1.57699280e+00,  2.02597411e+00,\n",
              "        1.72947081e+00,  1.20825115e+00,  1.73279783e+00,  1.76352254e+00,\n",
              "        1.15208899e+00, -8.66972328e-02,  9.50336488e-01,  1.17538736e+00,\n",
              "        1.67943995e-03,  9.74222020e-01,  1.58739874e+00,  1.60471208e+00,\n",
              "        1.19275529e+00,  2.13758093e+00,  1.20493705e+00,  2.44513517e-02,\n",
              "        1.31661209e+00, -6.24901159e-02, -7.50480465e-02,  1.07102462e-01,\n",
              "        1.75575763e-02, -6.00707940e-03,  1.42256157e+00,  1.81822977e+00,\n",
              "        1.61844504e+00, -9.55587793e-02,  7.09252828e-02,  2.09068304e+00])"
            ]
          },
          "metadata": {
            "tags": []
          },
          "execution_count": 118
        }
      ]
    },
    {
      "cell_type": "code",
      "metadata": {
        "id": "G_kyljwQtU1V",
        "colab_type": "code",
        "colab": {}
      },
      "source": [
        "import pickle\n",
        "with open('iris_classifier.pkl','wb') as f:\n",
        "  pickle.dump(model,f)"
      ],
      "execution_count": 119,
      "outputs": []
    },
    {
      "cell_type": "code",
      "metadata": {
        "id": "h0tAOVIYvNPM",
        "colab_type": "code",
        "colab": {
          "base_uri": "https://localhost:8080/",
          "height": 34
        },
        "outputId": "f39e1c76-e137-4e30-ea1b-1c562e2a26b0"
      },
      "source": [
        "f"
      ],
      "execution_count": 120,
      "outputs": [
        {
          "output_type": "execute_result",
          "data": {
            "text/plain": [
              "<_io.BufferedWriter name='iris_classifier.pkl'>"
            ]
          },
          "metadata": {
            "tags": []
          },
          "execution_count": 120
        }
      ]
    },
    {
      "cell_type": "code",
      "metadata": {
        "id": "b_41GIjPvQIl",
        "colab_type": "code",
        "colab": {}
      },
      "source": [
        ""
      ],
      "execution_count": null,
      "outputs": []
    }
  ]
}